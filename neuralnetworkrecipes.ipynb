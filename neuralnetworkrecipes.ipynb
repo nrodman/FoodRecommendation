{
  "nbformat": 4,
  "nbformat_minor": 0,
  "metadata": {
    "colab": {
      "provenance": [],
      "authorship_tag": "ABX9TyOBNJZgyU00FoXaq1I+eQuX",
      "include_colab_link": true
    },
    "kernelspec": {
      "name": "python3",
      "display_name": "Python 3"
    },
    "language_info": {
      "name": "python"
    }
  },
  "cells": [
    {
      "cell_type": "markdown",
      "metadata": {
        "id": "view-in-github",
        "colab_type": "text"
      },
      "source": [
        "<a href=\"https://colab.research.google.com/github/nrodman/FoodRecommendation/blob/main/neuralnetworkrecipes.ipynb\" target=\"_parent\"><img src=\"https://colab.research.google.com/assets/colab-badge.svg\" alt=\"Open In Colab\"/></a>"
      ]
    },
    {
      "cell_type": "code",
      "execution_count": null,
      "metadata": {
        "colab": {
          "base_uri": "https://localhost:8080/"
        },
        "id": "OWfuvSLhNgce",
        "outputId": "5fb464d2-b75b-4148-a687-1694effc7506"
      },
      "outputs": [
        {
          "output_type": "stream",
          "name": "stdout",
          "text": [
            "Mounted at /content/drive\n",
            "Columns in the merged dataset:\n",
            "Index(['recipeid', 'name', 'author', 'totaltime', 'datepublished',\n",
            "       'description', 'images', 'recipecategory', 'keywords',\n",
            "       'aggregatedrating', 'reviewcount', 'calories', 'fatcontent',\n",
            "       'proteincontent', 'recipeinstructions', 'reviewid', 'reviewer',\n",
            "       'rating', 'bigcategory'],\n",
            "      dtype='object')\n",
            "Merged Dataset:\n",
            "   recipeid                              name  author totaltime  \\\n",
            "0     79703   Easy Seven Layer Rice Casserole   89831   PT1H35M   \n",
            "1    284696     Baked Corn and Rice Casserole  128473   PT1H20M   \n",
            "2    105682  Sugar and Cinnamon Spiced Pecans  131500   PT1H10M   \n",
            "3     26039  Papa John's Garlic Dipping Sauce   27395      PT4M   \n",
            "4    448521                  Baked Seitan Log  992845   PT1H35M   \n",
            "\n",
            "               datepublished  \\\n",
            "0  2003-12-29 20:00:00+00:00   \n",
            "1  2008-02-07 18:31:00+00:00   \n",
            "2  2004-12-08 20:00:00+00:00   \n",
            "3  2002-04-22 17:06:00+00:00   \n",
            "4  2011-02-09 19:39:00+00:00   \n",
            "\n",
            "                                         description  \\\n",
            "0  Since there is no precooking the ground beef f...   \n",
            "1  I hope that you will enjoy this festive rice, ...   \n",
            "2  I love this recipe. It is such a hit, especial...   \n",
            "3  I LOVE Papa John's garlic sauce!! I think I co...   \n",
            "4  We really enjoy this semi-spicy seitan. Cook t...   \n",
            "\n",
            "                                              images recipecategory  \\\n",
            "0  https://img.sndimg.com/food/image/upload/w_555...           Oven   \n",
            "1  https://img.sndimg.com/food/image/upload/w_555...           Oven   \n",
            "2  https://img.sndimg.com/food/image/upload/w_555...           Oven   \n",
            "3  https://img.sndimg.com/food/image/upload/w_555...      Microwave   \n",
            "4  https://img.sndimg.com/food/image/upload/w_555...           Oven   \n",
            "\n",
            "                               keywords  aggregatedrating  reviewcount  \\\n",
            "0                           \"< 4 Hours\"               5.0         26.0   \n",
            "1                           \"< 4 Hours\"               5.0         10.0   \n",
            "2  \"Beginner Cook\", \"< 4 Hours\", \"Easy\"               5.0         42.0   \n",
            "3                   \"< 15 Mins\", \"Easy\"               4.5         19.0   \n",
            "4                           \"< 4 Hours\"               4.5          4.0   \n",
            "\n",
            "   calories  fatcontent  proteincontent  \\\n",
            "0     727.2        36.5            44.5   \n",
            "1     508.2        20.5            16.3   \n",
            "2     867.6        74.4             9.2   \n",
            "3     437.6        45.5             2.1   \n",
            "4     114.4         6.1             7.2   \n",
            "\n",
            "                                  recipeinstructions  reviewid    reviewer  \\\n",
            "0  Set oven to 450 degrees F., Butter a 2 qt cass...    247045      153067   \n",
            "1  Preheat oven to 350 degrees., Cook the rice in...   1389869      653438   \n",
            "2  Whip egg white until frothy., Add water, sugar...    538956      280166   \n",
            "3  Melt butter in the microwave for about 30 seco...   1016574      359220   \n",
            "4  Preheat oven to 325ÃÂ°F., In a large bowl, co...   2013458  2001438683   \n",
            "\n",
            "   rating bigcategory  \n",
            "0       5  Appliances  \n",
            "1       5  Appliances  \n",
            "2       5  Appliances  \n",
            "3       4  Appliances  \n",
            "4       4  Appliances  \n",
            "657/657 [==============================] - 1s 1ms/step\n"
          ]
        },
        {
          "output_type": "stream",
          "name": "stderr",
          "text": [
            "/usr/local/lib/python3.10/dist-packages/sklearn/metrics/_classification.py:1344: UndefinedMetricWarning: Precision is ill-defined and being set to 0.0 in labels with no predicted samples. Use `zero_division` parameter to control this behavior.\n",
            "  _warn_prf(average, modifier, msg_start, len(result))\n"
          ]
        },
        {
          "output_type": "stream",
          "name": "stdout",
          "text": [
            "657/657 [==============================] - 1s 1ms/step\n"
          ]
        },
        {
          "output_type": "stream",
          "name": "stderr",
          "text": [
            "/usr/local/lib/python3.10/dist-packages/sklearn/metrics/_classification.py:1344: UndefinedMetricWarning: Precision is ill-defined and being set to 0.0 in labels with no predicted samples. Use `zero_division` parameter to control this behavior.\n",
            "  _warn_prf(average, modifier, msg_start, len(result))\n"
          ]
        },
        {
          "output_type": "stream",
          "name": "stdout",
          "text": [
            "657/657 [==============================] - 1s 1ms/step\n"
          ]
        },
        {
          "output_type": "stream",
          "name": "stderr",
          "text": [
            "/usr/local/lib/python3.10/dist-packages/sklearn/metrics/_classification.py:1344: UndefinedMetricWarning: Precision is ill-defined and being set to 0.0 in labels with no predicted samples. Use `zero_division` parameter to control this behavior.\n",
            "  _warn_prf(average, modifier, msg_start, len(result))\n"
          ]
        },
        {
          "output_type": "stream",
          "name": "stdout",
          "text": [
            "657/657 [==============================] - 1s 1ms/step\n"
          ]
        },
        {
          "output_type": "stream",
          "name": "stderr",
          "text": [
            "/usr/local/lib/python3.10/dist-packages/sklearn/metrics/_classification.py:1344: UndefinedMetricWarning: Precision is ill-defined and being set to 0.0 in labels with no predicted samples. Use `zero_division` parameter to control this behavior.\n",
            "  _warn_prf(average, modifier, msg_start, len(result))\n"
          ]
        },
        {
          "output_type": "stream",
          "name": "stdout",
          "text": [
            "657/657 [==============================] - 1s 1ms/step\n"
          ]
        },
        {
          "output_type": "stream",
          "name": "stderr",
          "text": [
            "/usr/local/lib/python3.10/dist-packages/sklearn/metrics/_classification.py:1344: UndefinedMetricWarning: Precision is ill-defined and being set to 0.0 in labels with no predicted samples. Use `zero_division` parameter to control this behavior.\n",
            "  _warn_prf(average, modifier, msg_start, len(result))\n"
          ]
        },
        {
          "output_type": "stream",
          "name": "stdout",
          "text": [
            "821/821 [==============================] - 1s 1ms/step\n",
            "\n",
            "Final Test Set Evaluation - Accuracy: 0.9456608659228514, F1 Score: 0.919250100570627, Precision: 0.8942744733379571, Recall: 0.9456608659228514\n",
            "Fold 1 - Accuracy: 0.944880765386263, F1 Score: 0.9181022062497655, Precision: 0.8927996607969302, Recall: 0.944880765386263\n",
            "Fold 2 - Accuracy: 0.9452615545718501, F1 Score: 0.9186624846942533, Precision: 0.8935194065515909, Recall: 0.9452615545718501\n",
            "Fold 3 - Accuracy: 0.9453541507996953, F1 Score: 0.9187987391055079, Precision: 0.8936944704342131, Recall: 0.9453541507996953\n",
            "Fold 4 - Accuracy: 0.9452113480578828, F1 Score: 0.9185886082655268, Precision: 0.8934244924974, Recall: 0.9452113480578828\n",
            "Fold 5 - Accuracy: 0.943497715156131, F1 Score: 0.9160679033093965, Precision: 0.8901879385048397, Recall: 0.943497715156131\n",
            "\n",
            "Final Test Set Evaluation - Accuracy: 0.9456608659228514, F1 Score: 0.919250100570627, Precision: 0.8942744733379571, Recall: 0.9456608659228514\n",
            "\n",
            "User Selected Recipe: Betsy's Lemon-Cranberry Bread (ID: 317246)\n",
            "\n",
            "Recommended Recipes Based on Similar Reviewers:\n",
            "      recipeid                                       name  reviewer\n",
            "116     303283                     Old-Fashioned Lemonade    424680\n",
            "7990    270882                    Soft Bread Machine Naan    949568\n",
            "4486     66947  Refreshing Mojito  by the Pitcher Mojitos    869184\n",
            "0        79703            Easy Seven Layer Rice Casserole    153067\n"
          ]
        },
        {
          "output_type": "stream",
          "name": "stderr",
          "text": [
            "/usr/local/lib/python3.10/dist-packages/sklearn/metrics/_classification.py:1344: UndefinedMetricWarning: Precision is ill-defined and being set to 0.0 in labels with no predicted samples. Use `zero_division` parameter to control this behavior.\n",
            "  _warn_prf(average, modifier, msg_start, len(result))\n"
          ]
        }
      ],
      "source": [
        "import pandas as pd\n",
        "import numpy as np\n",
        "from sklearn.model_selection import train_test_split, KFold\n",
        "from sklearn.preprocessing import StandardScaler\n",
        "from tensorflow.keras.models import Sequential\n",
        "from tensorflow.keras.layers import Dense\n",
        "from tensorflow.keras.optimizers import Adam\n",
        "from sklearn.metrics import accuracy_score, f1_score, precision_score, recall_score\n",
        "\n",
        "from google.colab import drive\n",
        "drive.mount('/content/drive')\n",
        "data_dir = '/content/drive/My Drive/project1/'\n",
        "dataset_path = data_dir + 'reduced.csv'\n",
        "recipes_df = pd.read_csv(dataset_path)\n",
        "print(\"Columns in the merged dataset:\")\n",
        "print(recipes_df.columns)\n",
        "print(\"Merged Dataset:\")\n",
        "print(recipes_df.head())\n",
        "\n",
        "# defining feature columns\n",
        "feature_columns = ['calories', 'fatcontent', 'proteincontent']\n",
        "recipes_df = recipes_df.dropna(subset=feature_columns)\n",
        "features = recipes_df[feature_columns]\n",
        "target = (recipes_df['rating'] >= 4).astype(int)  # Binary classification: 1 for rating >= 4, else 0\n",
        "\n",
        "# standardizing the features\n",
        "scaler = StandardScaler()\n",
        "features_scaled = scaler.fit_transform(features)\n",
        "\n",
        "# data splitting into training and test sets\n",
        "X_train, X_test, y_train, y_test = train_test_split(features_scaled, target, test_size=0.2, random_state=42)\n",
        "\n",
        "# sequential neural network model\n",
        "def build_nn_model():\n",
        "    model = Sequential()\n",
        "    model.add(Dense(32, input_dim=X_train.shape[1], activation='relu'))\n",
        "    model.add(Dense(16, activation='relu'))\n",
        "    model.add(Dense(1, activation='sigmoid'))\n",
        "    model.compile(optimizer=Adam(learning_rate=0.001), loss='binary_crossentropy', metrics=['accuracy'])\n",
        "    return model\n",
        "\n",
        "# training and evaluating the model\n",
        "def train_evaluate_nn(X_train, y_train, X_test, y_test):\n",
        "    kfold = KFold(n_splits=5, shuffle=True, random_state=42)\n",
        "\n",
        "    fold_metrics = []\n",
        "\n",
        "    for train_index, val_index in kfold.split(X_train):\n",
        "        X_train_fold, X_val_fold = X_train[train_index], X_train[val_index]\n",
        "        y_train_fold, y_val_fold = y_train.iloc[train_index], y_train.iloc[val_index]\n",
        "\n",
        "        nn_model = build_nn_model()\n",
        "        nn_model.fit(X_train_fold, y_train_fold, epochs=10, batch_size=32, verbose=0, validation_data=(X_val_fold, y_val_fold))\n",
        "\n",
        "        y_val_pred = (nn_model.predict(X_val_fold) > 0.5).astype(int)\n",
        "\n",
        "        accuracy = accuracy_score(y_val_fold, y_val_pred)\n",
        "        f1 = f1_score(y_val_fold, y_val_pred, average='weighted')\n",
        "        precision = precision_score(y_val_fold, y_val_pred, average='weighted')\n",
        "        recall = recall_score(y_val_fold, y_val_pred, average='weighted')\n",
        "\n",
        "        fold_metrics.append((accuracy, f1, precision, recall))\n",
        "\n",
        "    # accuracy tests\n",
        "    nn_model_final = build_nn_model()\n",
        "    nn_model_final.fit(X_train, y_train, epochs=10, batch_size=32, verbose=0)\n",
        "    y_test_pred = (nn_model_final.predict(X_test) > 0.5).astype(int)\n",
        "\n",
        "    test_accuracy = accuracy_score(y_test, y_test_pred)\n",
        "    test_f1 = f1_score(y_test, y_test_pred, average='weighted')\n",
        "    test_precision = precision_score(y_test, y_test_pred, average='weighted')\n",
        "    test_recall = recall_score(y_test, y_test_pred, average='weighted')\n",
        "\n",
        "    print(f\"\\nFinal Test Set Evaluation - Accuracy: {test_accuracy}, F1 Score: {test_f1}, Precision: {test_precision}, Recall: {test_recall}\")\n",
        "\n",
        "    return fold_metrics, (test_accuracy, test_f1, test_precision, test_recall)\n",
        "\n",
        "# training and evaluating the model again\n",
        "fold_metrics, test_metrics = train_evaluate_nn(X_train, y_train, X_test, y_test)\n",
        "\n",
        "# simulating 1 random user selection from the recipes\n",
        "random_recipe = recipes_df.sample(1)\n",
        "selected_recipe_id = random_recipe['recipeid'].values[0]\n",
        "selected_recipe_name = random_recipe['name'].values[0]\n",
        "print(f\"\\nUser Selected Recipe: {selected_recipe_name} (ID: {selected_recipe_id})\")\n",
        "\n",
        "# getting reviewerID\n",
        "selected_recipe_reviewers = recipes_df[(recipes_df['recipeid'] == selected_recipe_id) & (recipes_df['rating'] == 5)]['reviewer'].unique()\n",
        "\n",
        "# maximum of 4 reviewers limited\n",
        "selected_reviewers_limited = selected_recipe_reviewers[:4]\n",
        "\n",
        "# get top-rated recipes by a reviewer without the selected recipe\n",
        "def get_top_recipes_by_reviewer(reviewer_id, selected_recipe_id, max_recipes=1):\n",
        "    reviewer_recipes = recipes_df[(recipes_df['reviewer'] == reviewer_id) & (recipes_df['recipeid'] != selected_recipe_id)]\n",
        "    top_recipes = reviewer_recipes.sort_values(by='rating', ascending=False).head(max_recipes)\n",
        "    return top_recipes\n",
        "\n",
        "# get recommendations\n",
        "recommended_recipes = pd.DataFrame()\n",
        "\n",
        "for reviewer in selected_reviewers_limited:\n",
        "    top_recommendations = get_top_recipes_by_reviewer(reviewer, selected_recipe_id)\n",
        "    recommended_recipes = pd.concat([recommended_recipes, top_recommendations])\n",
        "\n",
        "# getting at least 4 recommendations\n",
        "if recommended_recipes.shape[0] < 4:\n",
        "    additional_recommendations = recipes_df[(recipes_df['rating'] >= 4) & (recipes_df['recipeid'] != selected_recipe_id) &\n",
        "                                            (~recipes_df['recipeid'].isin(recommended_recipes['recipeid']))].drop_duplicates(subset='recipeid').head(4 - recommended_recipes.shape[0])\n",
        "    recommended_recipes = pd.concat([recommended_recipes, additional_recommendations]).drop_duplicates(subset='recipeid')\n",
        "\n",
        "# printing recommended recipes\n",
        "print(\"\\nRecommended Recipes Based on Similar Reviewers:\")\n",
        "print(recommended_recipes[['recipeid', 'name', 'reviewer']].head(4))\n"
      ]
    },
    {
      "cell_type": "code",
      "source": [],
      "metadata": {
        "id": "BUexcrrWU6F0"
      },
      "execution_count": null,
      "outputs": []
    }
  ]
}