{
  "nbformat": 4,
  "nbformat_minor": 0,
  "metadata": {
    "colab": {
      "provenance": [],
      "authorship_tag": "ABX9TyPAQk94sUJoS/z9EMyVfd3R",
      "include_colab_link": true
    },
    "kernelspec": {
      "name": "python3",
      "display_name": "Python 3"
    },
    "language_info": {
      "name": "python"
    }
  },
  "cells": [
    {
      "cell_type": "markdown",
      "metadata": {
        "id": "view-in-github",
        "colab_type": "text"
      },
      "source": [
        "<a href=\"https://colab.research.google.com/github/nrodman/FoodRecommendation/blob/main/neuralnetwork12recipes.ipynb\" target=\"_parent\"><img src=\"https://colab.research.google.com/assets/colab-badge.svg\" alt=\"Open In Colab\"/></a>"
      ]
    },
    {
      "cell_type": "code",
      "execution_count": null,
      "metadata": {
        "colab": {
          "base_uri": "https://localhost:8080/"
        },
        "id": "J2LIKoynNF5q",
        "outputId": "fe9aa6b6-dabf-4b8b-a697-0cf59b8eba11"
      },
      "outputs": [
        {
          "output_type": "stream",
          "name": "stdout",
          "text": [
            "Drive already mounted at /content/drive; to attempt to forcibly remount, call drive.mount(\"/content/drive\", force_remount=True).\n",
            "Columns in the merged dataset:\n",
            "Index(['recipeid', 'name', 'author', 'totaltime', 'datepublished',\n",
            "       'description', 'images', 'recipecategory', 'keywords',\n",
            "       'aggregatedrating', 'reviewcount', 'calories', 'fatcontent',\n",
            "       'proteincontent', 'recipeinstructions', 'reviewid', 'reviewer',\n",
            "       'rating', 'bigcategory'],\n",
            "      dtype='object')\n",
            "Merged Dataset:\n",
            "   recipeid                              name  author totaltime  \\\n",
            "0     79703   Easy Seven Layer Rice Casserole   89831   PT1H35M   \n",
            "1    284696     Baked Corn and Rice Casserole  128473   PT1H20M   \n",
            "2    105682  Sugar and Cinnamon Spiced Pecans  131500   PT1H10M   \n",
            "3     26039  Papa John's Garlic Dipping Sauce   27395      PT4M   \n",
            "4    448521                  Baked Seitan Log  992845   PT1H35M   \n",
            "\n",
            "               datepublished  \\\n",
            "0  2003-12-29 20:00:00+00:00   \n",
            "1  2008-02-07 18:31:00+00:00   \n",
            "2  2004-12-08 20:00:00+00:00   \n",
            "3  2002-04-22 17:06:00+00:00   \n",
            "4  2011-02-09 19:39:00+00:00   \n",
            "\n",
            "                                         description  \\\n",
            "0  Since there is no precooking the ground beef f...   \n",
            "1  I hope that you will enjoy this festive rice, ...   \n",
            "2  I love this recipe. It is such a hit, especial...   \n",
            "3  I LOVE Papa John's garlic sauce!! I think I co...   \n",
            "4  We really enjoy this semi-spicy seitan. Cook t...   \n",
            "\n",
            "                                              images recipecategory  \\\n",
            "0  https://img.sndimg.com/food/image/upload/w_555...           Oven   \n",
            "1  https://img.sndimg.com/food/image/upload/w_555...           Oven   \n",
            "2  https://img.sndimg.com/food/image/upload/w_555...           Oven   \n",
            "3  https://img.sndimg.com/food/image/upload/w_555...      Microwave   \n",
            "4  https://img.sndimg.com/food/image/upload/w_555...           Oven   \n",
            "\n",
            "                               keywords  aggregatedrating  reviewcount  \\\n",
            "0                           \"< 4 Hours\"               5.0         26.0   \n",
            "1                           \"< 4 Hours\"               5.0         10.0   \n",
            "2  \"Beginner Cook\", \"< 4 Hours\", \"Easy\"               5.0         42.0   \n",
            "3                   \"< 15 Mins\", \"Easy\"               4.5         19.0   \n",
            "4                           \"< 4 Hours\"               4.5          4.0   \n",
            "\n",
            "   calories  fatcontent  proteincontent  \\\n",
            "0     727.2        36.5            44.5   \n",
            "1     508.2        20.5            16.3   \n",
            "2     867.6        74.4             9.2   \n",
            "3     437.6        45.5             2.1   \n",
            "4     114.4         6.1             7.2   \n",
            "\n",
            "                                  recipeinstructions  reviewid    reviewer  \\\n",
            "0  Set oven to 450 degrees F., Butter a 2 qt cass...    247045      153067   \n",
            "1  Preheat oven to 350 degrees., Cook the rice in...   1389869      653438   \n",
            "2  Whip egg white until frothy., Add water, sugar...    538956      280166   \n",
            "3  Melt butter in the microwave for about 30 seco...   1016574      359220   \n",
            "4  Preheat oven to 325ÃÂ°F., In a large bowl, co...   2013458  2001438683   \n",
            "\n",
            "   rating bigcategory  \n",
            "0       5  Appliances  \n",
            "1       5  Appliances  \n",
            "2       5  Appliances  \n",
            "3       4  Appliances  \n",
            "4       4  Appliances  \n",
            "657/657 [==============================] - 1s 2ms/step\n"
          ]
        },
        {
          "output_type": "stream",
          "name": "stderr",
          "text": [
            "/usr/local/lib/python3.10/dist-packages/sklearn/metrics/_classification.py:1344: UndefinedMetricWarning: Precision is ill-defined and being set to 0.0 in labels with no predicted samples. Use `zero_division` parameter to control this behavior.\n",
            "  _warn_prf(average, modifier, msg_start, len(result))\n"
          ]
        },
        {
          "output_type": "stream",
          "name": "stdout",
          "text": [
            "657/657 [==============================] - 1s 1ms/step\n"
          ]
        },
        {
          "output_type": "stream",
          "name": "stderr",
          "text": [
            "/usr/local/lib/python3.10/dist-packages/sklearn/metrics/_classification.py:1344: UndefinedMetricWarning: Precision is ill-defined and being set to 0.0 in labels with no predicted samples. Use `zero_division` parameter to control this behavior.\n",
            "  _warn_prf(average, modifier, msg_start, len(result))\n"
          ]
        },
        {
          "output_type": "stream",
          "name": "stdout",
          "text": [
            "657/657 [==============================] - 1s 2ms/step\n"
          ]
        },
        {
          "output_type": "stream",
          "name": "stderr",
          "text": [
            "/usr/local/lib/python3.10/dist-packages/sklearn/metrics/_classification.py:1344: UndefinedMetricWarning: Precision is ill-defined and being set to 0.0 in labels with no predicted samples. Use `zero_division` parameter to control this behavior.\n",
            "  _warn_prf(average, modifier, msg_start, len(result))\n"
          ]
        },
        {
          "output_type": "stream",
          "name": "stdout",
          "text": [
            "657/657 [==============================] - 1s 1ms/step\n"
          ]
        },
        {
          "output_type": "stream",
          "name": "stderr",
          "text": [
            "/usr/local/lib/python3.10/dist-packages/sklearn/metrics/_classification.py:1344: UndefinedMetricWarning: Precision is ill-defined and being set to 0.0 in labels with no predicted samples. Use `zero_division` parameter to control this behavior.\n",
            "  _warn_prf(average, modifier, msg_start, len(result))\n"
          ]
        },
        {
          "output_type": "stream",
          "name": "stdout",
          "text": [
            "657/657 [==============================] - 1s 1ms/step\n"
          ]
        },
        {
          "output_type": "stream",
          "name": "stderr",
          "text": [
            "/usr/local/lib/python3.10/dist-packages/sklearn/metrics/_classification.py:1344: UndefinedMetricWarning: Precision is ill-defined and being set to 0.0 in labels with no predicted samples. Use `zero_division` parameter to control this behavior.\n",
            "  _warn_prf(average, modifier, msg_start, len(result))\n"
          ]
        },
        {
          "output_type": "stream",
          "name": "stdout",
          "text": [
            "821/821 [==============================] - 1s 1ms/step\n",
            "\n",
            "Final Test Set Evaluation - Accuracy: 0.9456608659228514, F1 Score: 0.919250100570627, Precision: 0.8942744733379571, Recall: 0.9456608659228514\n",
            "\n",
            "Recipe: Pumpkin Layer Cheesecake (ID: 35568)\n",
            "  73/4104 [..............................] - ETA: 5s"
          ]
        },
        {
          "output_type": "stream",
          "name": "stderr",
          "text": [
            "/usr/local/lib/python3.10/dist-packages/sklearn/metrics/_classification.py:1344: UndefinedMetricWarning: Precision is ill-defined and being set to 0.0 in labels with no predicted samples. Use `zero_division` parameter to control this behavior.\n",
            "  _warn_prf(average, modifier, msg_start, len(result))\n",
            "/usr/local/lib/python3.10/dist-packages/sklearn/base.py:439: UserWarning: X does not have valid feature names, but StandardScaler was fitted with feature names\n",
            "  warnings.warn(\n"
          ]
        },
        {
          "output_type": "stream",
          "name": "stdout",
          "text": [
            "4104/4104 [==============================] - 5s 1ms/step\n",
            "1/1 [==============================] - 0s 33ms/step\n",
            "Recommended Recipes Based on Similar Features:\n",
            "       recipeid                                        name\n",
            "28730     26291  Bev's Quick and Easy Shrimp Cocktail Sauce\n",
            "86633    129028               Garden Veggies and Beef Salad\n",
            "83715    179257                    Ultimate Chicken Fingers\n",
            "59271    369024                   Honey Walnut Berry Yogurt\n",
            "\n",
            "Recipe: Bourbon Chicken (ID: 45809)\n",
            "  30/4104 [..............................] - ETA: 7s  "
          ]
        },
        {
          "output_type": "stream",
          "name": "stderr",
          "text": [
            "/usr/local/lib/python3.10/dist-packages/sklearn/base.py:439: UserWarning: X does not have valid feature names, but StandardScaler was fitted with feature names\n",
            "  warnings.warn(\n"
          ]
        },
        {
          "output_type": "stream",
          "name": "stdout",
          "text": [
            "4104/4104 [==============================] - 6s 1ms/step\n",
            "18/18 [==============================] - 0s 1ms/step\n",
            "Recommended Recipes Based on Similar Features:\n",
            "       recipeid                                         name\n",
            "96546     58226           Homemade Ravioli with Tomato Sauce\n",
            "82190     44304  Nat's (pass the napkins) chicken drumsticks\n",
            "87741     23135                            Honey Spiced Duck\n",
            "31536    394746                               Burrito Ultimo\n",
            "\n",
            "Recipe: Naan (ID: 203261)\n",
            "  85/4104 [..............................] - ETA: 4s"
          ]
        },
        {
          "output_type": "stream",
          "name": "stderr",
          "text": [
            "/usr/local/lib/python3.10/dist-packages/sklearn/base.py:439: UserWarning: X does not have valid feature names, but StandardScaler was fitted with feature names\n",
            "  warnings.warn(\n"
          ]
        },
        {
          "output_type": "stream",
          "name": "stdout",
          "text": [
            "4104/4104 [==============================] - 7s 2ms/step\n",
            "1/1 [==============================] - 0s 22ms/step\n",
            "Recommended Recipes Based on Similar Features:\n",
            "        recipeid                                               name\n",
            "120499    322647                         Grilled Cabbage by Richard\n",
            "104420     27085                               Tomato-Basil Squares\n",
            "121194    164303  Roasted Root Vegetables With Maple Balsamic Dr...\n",
            "122719    339102   Creamy Ranch Mashed Potatoes (Make Ahead Option)\n",
            "\n",
            "Recipe: Lemon Butter Tilapia (ID: 147551)\n",
            "  88/4104 [..............................] - ETA: 4s"
          ]
        },
        {
          "output_type": "stream",
          "name": "stderr",
          "text": [
            "/usr/local/lib/python3.10/dist-packages/sklearn/base.py:439: UserWarning: X does not have valid feature names, but StandardScaler was fitted with feature names\n",
            "  warnings.warn(\n"
          ]
        },
        {
          "output_type": "stream",
          "name": "stdout",
          "text": [
            "4104/4104 [==============================] - 5s 1ms/step\n",
            "1/1 [==============================] - 0s 23ms/step\n",
            "Recommended Recipes Based on Similar Features:\n",
            "        recipeid                                               name\n",
            "87106     164695                             Japanese Cabbage Rolls\n",
            "118576     69240  Roasted Broccoli W Lemon Garlic &amp; Toasted ...\n",
            "68003     348812                     Make Ahead Breakfast Casserole\n",
            "120765    212282                             Green Beans a La Lemon\n",
            "\n",
            "Recipe: Creamy Garlic Penne Pasta (ID: 43023)\n",
            "  88/4104 [..............................] - ETA: 4s"
          ]
        },
        {
          "output_type": "stream",
          "name": "stderr",
          "text": [
            "/usr/local/lib/python3.10/dist-packages/sklearn/base.py:439: UserWarning: X does not have valid feature names, but StandardScaler was fitted with feature names\n",
            "  warnings.warn(\n"
          ]
        },
        {
          "output_type": "stream",
          "name": "stdout",
          "text": [
            "4104/4104 [==============================] - 7s 2ms/step\n",
            "2/2 [==============================] - 0s 6ms/step\n",
            "Recommended Recipes Based on Similar Features:\n",
            "        recipeid                                name\n",
            "38306      97065          Easy Sticky-Toffee Dessert\n",
            "100266    243596      Cranberry-Turkey Spinach Salad\n",
            "32721     280047  Lemon-Ginger Chicken With Broccoli\n",
            "34656     287099                    Walnut  Pralines\n",
            "\n",
            "Recipe: Boeuf Bourguignon a La Julia Child (ID: 148007)\n",
            "  79/4104 [..............................] - ETA: 5s"
          ]
        },
        {
          "output_type": "stream",
          "name": "stderr",
          "text": [
            "/usr/local/lib/python3.10/dist-packages/sklearn/base.py:439: UserWarning: X does not have valid feature names, but StandardScaler was fitted with feature names\n",
            "  warnings.warn(\n"
          ]
        },
        {
          "output_type": "stream",
          "name": "stdout",
          "text": [
            "4104/4104 [==============================] - 5s 1ms/step\n",
            "1/1 [==============================] - 0s 24ms/step\n",
            "Recommended Recipes Based on Similar Features:\n",
            "       recipeid                                               name\n",
            "41678    264605  Traditional Rich Scottish Shortbread Biscuits ...\n",
            "72229    231192                                     Heavenly Pasta\n",
            "44957    259769                         Homemade Soft Oreo Cookies\n",
            "68985    152378                                    Ww French Toast\n",
            "\n",
            "Recipe: Pizza Dough and Sauce (ID: 1005)\n",
            "  85/4104 [..............................] - ETA: 4s"
          ]
        },
        {
          "output_type": "stream",
          "name": "stderr",
          "text": [
            "/usr/local/lib/python3.10/dist-packages/sklearn/base.py:439: UserWarning: X does not have valid feature names, but StandardScaler was fitted with feature names\n",
            "  warnings.warn(\n"
          ]
        },
        {
          "output_type": "stream",
          "name": "stdout",
          "text": [
            "4104/4104 [==============================] - 7s 2ms/step\n",
            "1/1 [==============================] - 0s 22ms/step\n",
            "Recommended Recipes Based on Similar Features:\n",
            "        recipeid                            name\n",
            "130630    294624  Oven-Fried Sweet Potato Wedges\n",
            "24493     478472    Favorite Sweet Milk Pancakes\n",
            "54036     101802  Butterscotch Cookies (No Bake)\n",
            "111871    143404           Steamed Clams for Two\n",
            "\n",
            "Recipe: Fish and Chips (ID: 211432)\n",
            "  78/4104 [..............................] - ETA: 5s"
          ]
        },
        {
          "output_type": "stream",
          "name": "stderr",
          "text": [
            "/usr/local/lib/python3.10/dist-packages/sklearn/base.py:439: UserWarning: X does not have valid feature names, but StandardScaler was fitted with feature names\n",
            "  warnings.warn(\n"
          ]
        },
        {
          "output_type": "stream",
          "name": "stdout",
          "text": [
            "4104/4104 [==============================] - 5s 1ms/step\n",
            "1/1 [==============================] - 0s 31ms/step\n",
            "Recommended Recipes Based on Similar Features:\n",
            "       recipeid                                               name\n",
            "68400    180336  Basil Grilled Chicken Sandwiches With Red Pepp...\n",
            "70660    377671                                Cucumber Sandwiches\n",
            "58168    129238                                  Microwave Risotto\n",
            "59663    508414                               Cake Batter Pancakes\n",
            "\n",
            "Recipe: BLT Pasta Salad (ID: 27195)\n",
            "  29/4104 [..............................] - ETA: 7s  "
          ]
        },
        {
          "output_type": "stream",
          "name": "stderr",
          "text": [
            "/usr/local/lib/python3.10/dist-packages/sklearn/base.py:439: UserWarning: X does not have valid feature names, but StandardScaler was fitted with feature names\n",
            "  warnings.warn(\n"
          ]
        },
        {
          "output_type": "stream",
          "name": "stdout",
          "text": [
            "4104/4104 [==============================] - 5s 1ms/step\n",
            "2/2 [==============================] - 0s 6ms/step\n",
            "Recommended Recipes Based on Similar Features:\n",
            "        recipeid                              name\n",
            "125499    150396             Mashed Garlic Turnips\n",
            "13155      61374                      Snappy Rolls\n",
            "127245    137744  Italian Parmesan Roasted Carrots\n",
            "36567     400240                      Fudge Babies\n",
            "\n",
            "Recipe: Cosmopolitan Raspberry Twist (ID: 96210)\n",
            "  84/4104 [..............................] - ETA: 5s"
          ]
        },
        {
          "output_type": "stream",
          "name": "stderr",
          "text": [
            "/usr/local/lib/python3.10/dist-packages/sklearn/base.py:439: UserWarning: X does not have valid feature names, but StandardScaler was fitted with feature names\n",
            "  warnings.warn(\n"
          ]
        },
        {
          "output_type": "stream",
          "name": "stdout",
          "text": [
            "4104/4104 [==============================] - 6s 1ms/step\n",
            "1/1 [==============================] - 0s 31ms/step\n",
            "Recommended Recipes Based on Similar Features:\n",
            "        recipeid                                    name\n",
            "120249    280527          Keiko's Spicy Dynamite Edamame\n",
            "103761    126054            Tomato and Mozzarella Burger\n",
            "87051     190123  North Carolina Boneless Shoulder Roast\n",
            "30008      65860       Party-Favorite Crabmeat Au Gratin\n",
            "\n",
            "Recipe: Jalapeno Poppers (ID: 16333)\n",
            "  20/4104 [..............................] - ETA: 10s "
          ]
        },
        {
          "output_type": "stream",
          "name": "stderr",
          "text": [
            "/usr/local/lib/python3.10/dist-packages/sklearn/base.py:439: UserWarning: X does not have valid feature names, but StandardScaler was fitted with feature names\n",
            "  warnings.warn(\n"
          ]
        },
        {
          "output_type": "stream",
          "name": "stdout",
          "text": [
            "4104/4104 [==============================] - 5s 1ms/step\n",
            "1/1 [==============================] - 0s 21ms/step\n",
            "Recommended Recipes Based on Similar Features:\n",
            "        recipeid                                name\n",
            "27174     147275                  Three Onion Spread\n",
            "8633      350443               Super Easy Naan Bread\n",
            "112635     41253               Cinnamon Honey Butter\n",
            "120931    156767  World's Best Braised Green Cabbage\n",
            "\n",
            "Recipe: Greek Grilled Fish (ID: 308113)\n",
            "  79/4104 [..............................] - ETA: 5s"
          ]
        },
        {
          "output_type": "stream",
          "name": "stderr",
          "text": [
            "/usr/local/lib/python3.10/dist-packages/sklearn/base.py:439: UserWarning: X does not have valid feature names, but StandardScaler was fitted with feature names\n",
            "  warnings.warn(\n"
          ]
        },
        {
          "output_type": "stream",
          "name": "stdout",
          "text": [
            "4104/4104 [==============================] - 6s 1ms/step\n",
            "1/1 [==============================] - 0s 32ms/step\n",
            "Recommended Recipes Based on Similar Features:\n",
            "        recipeid                             name\n",
            "8114       17298      Challah (Braided Egg Bread)\n",
            "43744      88989               Easy Blueberry Pie\n",
            "42016     242405                    Hot Milk Cake\n",
            "110664    244220  Traditional Irish Guinness Stew\n"
          ]
        }
      ],
      "source": [
        "import pandas as pd\n",
        "import numpy as np\n",
        "from sklearn.model_selection import train_test_split, KFold\n",
        "from sklearn.preprocessing import StandardScaler\n",
        "from tensorflow.keras.models import Sequential\n",
        "from tensorflow.keras.layers import Dense\n",
        "from tensorflow.keras.optimizers import Adam\n",
        "from sklearn.metrics import accuracy_score, f1_score, precision_score, recall_score\n",
        "\n",
        "from google.colab import drive\n",
        "drive.mount('/content/drive')\n",
        "data_dir = '/content/drive/My Drive/project1/'\n",
        "dataset_path = data_dir + 'reduced.csv'\n",
        "recipes_df = pd.read_csv(dataset_path)\n",
        "\n",
        "print(\"Columns in the merged dataset:\")\n",
        "print(recipes_df.columns)\n",
        "\n",
        "print(\"Merged Dataset:\")\n",
        "print(recipes_df.head())\n",
        "\n",
        "# defining feature columns\n",
        "feature_columns = ['calories', 'fatcontent', 'proteincontent']\n",
        "recipes_df = recipes_df.dropna(subset=feature_columns)\n",
        "features = recipes_df[feature_columns]\n",
        "target = (recipes_df['rating'] >= 4).astype(int)  # Binary classification: 1 for rating >= 4, else 0\n",
        "\n",
        "# standardizing the features\n",
        "scaler = StandardScaler()\n",
        "features_scaled = scaler.fit_transform(features)\n",
        "\n",
        "# data splitting into training and test sets\n",
        "X_train, X_test, y_train, y_test = train_test_split(features_scaled, target, test_size=0.2, random_state=42)\n",
        "\n",
        "# sequential neural network model\n",
        "def build_nn_model():\n",
        "    model = Sequential()\n",
        "    model.add(Dense(32, input_dim=X_train.shape[1], activation='relu'))\n",
        "    model.add(Dense(16, activation='relu'))\n",
        "    model.add(Dense(1, activation='sigmoid'))\n",
        "    model.compile(optimizer=Adam(learning_rate=0.001), loss='binary_crossentropy', metrics=['accuracy'])\n",
        "    return model\n",
        "\n",
        "# training and evaluating the model\n",
        "def train_evaluate_nn(X_train, y_train, X_test, y_test):\n",
        "    kfold = KFold(n_splits=5, shuffle=True, random_state=42)\n",
        "\n",
        "    fold_metrics = []\n",
        "\n",
        "    for train_index, val_index in kfold.split(X_train):\n",
        "        X_train_fold, X_val_fold = X_train[train_index], X_train[val_index]\n",
        "        y_train_fold, y_val_fold = y_train.iloc[train_index], y_train.iloc[val_index]\n",
        "\n",
        "        nn_model = build_nn_model()\n",
        "        nn_model.fit(X_train_fold, y_train_fold, epochs=10, batch_size=32, verbose=0, validation_data=(X_val_fold, y_val_fold))\n",
        "\n",
        "        y_val_pred = (nn_model.predict(X_val_fold) > 0.5).astype(int)\n",
        "\n",
        "        accuracy = accuracy_score(y_val_fold, y_val_pred)\n",
        "        f1 = f1_score(y_val_fold, y_val_pred, average='weighted')\n",
        "        precision = precision_score(y_val_fold, y_val_pred, average='weighted')\n",
        "        recall = recall_score(y_val_fold, y_val_pred, average='weighted')\n",
        "\n",
        "        fold_metrics.append((accuracy, f1, precision, recall))\n",
        "\n",
        "    # accuracy tests\n",
        "    nn_model_final = build_nn_model()\n",
        "    nn_model_final.fit(X_train, y_train, epochs=10, batch_size=32, verbose=0)\n",
        "    y_test_pred = (nn_model_final.predict(X_test) > 0.5).astype(int)\n",
        "\n",
        "    test_accuracy = accuracy_score(y_test, y_test_pred)\n",
        "    test_f1 = f1_score(y_test, y_test_pred, average='weighted')\n",
        "    test_precision = precision_score(y_test, y_test_pred, average='weighted')\n",
        "    test_recall = recall_score(y_test, y_test_pred, average='weighted')\n",
        "\n",
        "    print(f\"\\nFinal Test Set Evaluation - Accuracy: {test_accuracy}, F1 Score: {test_f1}, Precision: {test_precision}, Recall: {test_recall}\")\n",
        "\n",
        "    return nn_model_final\n",
        "\n",
        "# training and evaluating the modelc again\n",
        "nn_model = train_evaluate_nn(X_train, y_train, X_test, y_test)\n",
        "\n",
        "# similar recipes prediction based on feautures\n",
        "def get_similar_recipes(recipe_id, top_n=4):\n",
        "    recipe_features = recipes_df[recipes_df['recipeid'] == recipe_id][feature_columns].values\n",
        "    recipe_features_scaled = scaler.transform(recipe_features)\n",
        "\n",
        "    predictions = nn_model.predict(features_scaled)\n",
        "    recipes_df['predictions'] = predictions\n",
        "\n",
        "    selected_recipe_prediction = nn_model.predict(recipe_features_scaled)[0][0]\n",
        "    recipes_df['similarity'] = np.abs(recipes_df['predictions'] - selected_recipe_prediction)\n",
        "\n",
        "    similar_recipes = recipes_df[recipes_df['recipeid'] != recipe_id].sort_values(by='similarity').drop_duplicates(subset='recipeid').head(top_n)\n",
        "    return similar_recipes\n",
        "\n",
        "# our 12 recipe IDs to process\n",
        "recipe_ids = [\n",
        "    35568, 45809, 203261, 147551, 43023, 148007, 1005, 211432, 27195, 96210, 16333, 308113\n",
        "]\n",
        "\n",
        "# each specific recipe ID printed\n",
        "for recipe_id in recipe_ids:\n",
        "    selected_recipe = recipes_df[recipes_df['recipeid'] == recipe_id].iloc[0]\n",
        "    selected_recipe_name = selected_recipe['name']\n",
        "    print(f\"\\nRecipe: {selected_recipe_name} (ID: {recipe_id})\")\n",
        "\n",
        "    # similar recipes based on features\n",
        "    similar_recipes = get_similar_recipes(recipe_id)\n",
        "\n",
        "    # printing recommended recipes\n",
        "    print(\"Recommended Recipes Based on Similar Features:\")\n",
        "    print(similar_recipes[['recipeid', 'name']].head(4))\n"
      ]
    }
  ]
}